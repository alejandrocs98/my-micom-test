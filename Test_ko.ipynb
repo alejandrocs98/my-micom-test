{
 "cells": [
  {
   "cell_type": "code",
   "execution_count": 1,
   "metadata": {},
   "outputs": [
    {
     "name": "stdout",
     "output_type": "stream",
     "text": [
      "\n",
      "Package Information\n",
      "-------------------\n",
      "micom 0.34.1\n",
      "\n",
      "Dependency Information\n",
      "----------------------\n",
      "cobra            0.29.0\n",
      "highspy      1.7.1.dev1\n",
      "jinja2            3.1.3\n",
      "optlang           1.8.1\n",
      "osqp              0.6.5\n",
      "pandas            2.2.1\n",
      "scikit-learn      1.4.2\n",
      "scipy            1.12.0\n",
      "symengine        0.11.0\n",
      "\n",
      "Build Tools Information\n",
      "-----------------------\n",
      "pip          23.3\n",
      "setuptools 68.0.0\n",
      "wheel      0.41.2\n",
      "\n",
      "Platform Information\n",
      "--------------------\n",
      "Linux   6.5.0-27-generic-x86_64\n",
      "CPython                  3.9.18\n"
     ]
    }
   ],
   "source": [
    "import pandas as pd\n",
    "import seaborn as sns\n",
    "import numpy as np\n",
    "import matplotlib.pyplot as plt\n",
    "import glob\n",
    "\n",
    "from micom import load_pickle\n",
    "from micom.qiime_formats import load_qiime_model_db, load_qiime_medium\n",
    "from micom.workflows import grow, save_results, load_results\n",
    "from micom.viz import *\n",
    "from micom.measures import *\n",
    "import micom; micom.show_versions()"
   ]
  },
  {
   "cell_type": "markdown",
   "metadata": {},
   "source": [
    "# Test"
   ]
  },
  {
   "cell_type": "code",
   "execution_count": 2,
   "metadata": {},
   "outputs": [
    {
     "name": "stdout",
     "output_type": "stream",
     "text": [
      "Set parameter Username\n",
      "Academic license - for non-commercial use only - expires 2024-10-23\n",
      "Read LP format model from file /tmp/tmphvdua3b5.lp\n",
      "Reading time = 0.12 seconds\n",
      ": 16186 rows, 48895 columns, 186527 nonzeros\n"
     ]
    }
   ],
   "source": [
    "com = load_pickle('mouse_01.pickle')"
   ]
  },
  {
   "cell_type": "code",
   "execution_count": 3,
   "metadata": {},
   "outputs": [],
   "source": [
    "diet = load_qiime_medium(\"vmh_high_fiber.qza\")\n",
    "com.medium = diet.flux"
   ]
  },
  {
   "cell_type": "code",
   "execution_count": 4,
   "metadata": {},
   "outputs": [
    {
     "data": {
      "text/plain": [
       "<optlang.gurobi_interface.Model at 0x706ed8ba3ee0>"
      ]
     },
     "execution_count": 4,
     "metadata": {},
     "output_type": "execute_result"
    }
   ],
   "source": [
    "com.solver"
   ]
  },
  {
   "cell_type": "code",
   "execution_count": 10,
   "metadata": {},
   "outputs": [
    {
     "data": {
      "text/html": [
       "<strong>community growth:</strong> 0.039<br><strong>status:</strong> optimal<br><strong>taxa:</strong><div>\n",
       "<style scoped>\n",
       "    .dataframe tbody tr th:only-of-type {\n",
       "        vertical-align: middle;\n",
       "    }\n",
       "\n",
       "    .dataframe tbody tr th {\n",
       "        vertical-align: top;\n",
       "    }\n",
       "\n",
       "    .dataframe thead th {\n",
       "        text-align: right;\n",
       "    }\n",
       "</style>\n",
       "<table border=\"1\" class=\"dataframe\">\n",
       "  <thead>\n",
       "    <tr style=\"text-align: right;\">\n",
       "      <th></th>\n",
       "      <th>abundance</th>\n",
       "      <th>growth_rate</th>\n",
       "      <th>reactions</th>\n",
       "      <th>metabolites</th>\n",
       "    </tr>\n",
       "    <tr>\n",
       "      <th>compartments</th>\n",
       "      <th></th>\n",
       "      <th></th>\n",
       "      <th></th>\n",
       "      <th></th>\n",
       "    </tr>\n",
       "  </thead>\n",
       "  <tbody>\n",
       "    <tr>\n",
       "      <th>B_caccae</th>\n",
       "      <td>0.097084</td>\n",
       "      <td>0.000299</td>\n",
       "      <td>2381</td>\n",
       "      <td>1461</td>\n",
       "    </tr>\n",
       "    <tr>\n",
       "      <th>B_cellulosilyticus_WH2</th>\n",
       "      <td>0.444060</td>\n",
       "      <td>0.037855</td>\n",
       "      <td>2779</td>\n",
       "      <td>1702</td>\n",
       "    </tr>\n",
       "    <tr>\n",
       "      <th>B_ovatus</th>\n",
       "      <td>0.139322</td>\n",
       "      <td>0.000153</td>\n",
       "      <td>2476</td>\n",
       "      <td>1526</td>\n",
       "    </tr>\n",
       "    <tr>\n",
       "      <th>B_thetaiotaomicron</th>\n",
       "      <td>0.093460</td>\n",
       "      <td>0.115440</td>\n",
       "      <td>2524</td>\n",
       "      <td>1549</td>\n",
       "    </tr>\n",
       "    <tr>\n",
       "      <th>B_uniformis</th>\n",
       "      <td>0.035084</td>\n",
       "      <td>0.000652</td>\n",
       "      <td>2418</td>\n",
       "      <td>1500</td>\n",
       "    </tr>\n",
       "    <tr>\n",
       "      <th>...</th>\n",
       "      <td>...</td>\n",
       "      <td>...</td>\n",
       "      <td>...</td>\n",
       "      <td>...</td>\n",
       "    </tr>\n",
       "    <tr>\n",
       "      <th>C_scindens</th>\n",
       "      <td>0.011852</td>\n",
       "      <td>0.000340</td>\n",
       "      <td>2049</td>\n",
       "      <td>1394</td>\n",
       "    </tr>\n",
       "    <tr>\n",
       "      <th>C_spiroforme</th>\n",
       "      <td>0.000141</td>\n",
       "      <td>0.048229</td>\n",
       "      <td>1980</td>\n",
       "      <td>1313</td>\n",
       "    </tr>\n",
       "    <tr>\n",
       "      <th>P_distasonis</th>\n",
       "      <td>0.040783</td>\n",
       "      <td>0.066471</td>\n",
       "      <td>2519</td>\n",
       "      <td>1570</td>\n",
       "    </tr>\n",
       "    <tr>\n",
       "      <th>R_obeum</th>\n",
       "      <td>0.046393</td>\n",
       "      <td>0.001337</td>\n",
       "      <td>1225</td>\n",
       "      <td>1088</td>\n",
       "    </tr>\n",
       "    <tr>\n",
       "      <th>medium</th>\n",
       "      <td>NaN</td>\n",
       "      <td>NaN</td>\n",
       "      <td>702</td>\n",
       "      <td>702</td>\n",
       "    </tr>\n",
       "  </tbody>\n",
       "</table>\n",
       "<p>12 rows × 4 columns</p>\n",
       "</div>"
      ],
      "text/plain": [
       "<CommunitySolution 0.039 at 0x706eda0a73a0>"
      ]
     },
     "execution_count": 10,
     "metadata": {},
     "output_type": "execute_result"
    }
   ],
   "source": [
    "com.cooperative_tradeoff(fraction=0.6, fluxes=True, pfba=True)"
   ]
  },
  {
   "cell_type": "code",
   "execution_count": 6,
   "metadata": {},
   "outputs": [
    {
     "data": {
      "application/vnd.jupyter.widget-view+json": {
       "model_id": "4ac02646ba86481fb25f20711d33f1aa",
       "version_major": 2,
       "version_minor": 0
      },
      "text/plain": [
       "Output()"
      ]
     },
     "metadata": {},
     "output_type": "display_data"
    },
    {
     "data": {
      "text/html": [
       "<pre style=\"white-space:pre;overflow-x:auto;line-height:normal;font-family:Menlo,'DejaVu Sans Mono',consolas,'Courier New',monospace\"></pre>\n"
      ],
      "text/plain": []
     },
     "metadata": {},
     "output_type": "display_data"
    },
    {
     "data": {
      "text/html": [
       "<pre style=\"white-space:pre;overflow-x:auto;line-height:normal;font-family:Menlo,'DejaVu Sans Mono',consolas,'Courier New',monospace\">\n",
       "</pre>\n"
      ],
      "text/plain": [
       "\n"
      ]
     },
     "metadata": {},
     "output_type": "display_data"
    }
   ],
   "source": [
    "ko_new, ko_old = com.knockout_taxa(fraction=0.6, method='raw', diag=False)"
   ]
  },
  {
   "cell_type": "code",
   "execution_count": 7,
   "metadata": {},
   "outputs": [
    {
     "data": {
      "application/vnd.jupyter.widget-view+json": {
       "model_id": "7e513d7169324491bfc983818a4023af",
       "version_major": 2,
       "version_minor": 0
      },
      "text/plain": [
       "Output()"
      ]
     },
     "metadata": {},
     "output_type": "display_data"
    },
    {
     "data": {
      "text/html": [
       "<pre style=\"white-space:pre;overflow-x:auto;line-height:normal;font-family:Menlo,'DejaVu Sans Mono',consolas,'Courier New',monospace\"></pre>\n"
      ],
      "text/plain": []
     },
     "metadata": {},
     "output_type": "display_data"
    },
    {
     "data": {
      "text/html": [
       "<pre style=\"white-space:pre;overflow-x:auto;line-height:normal;font-family:Menlo,'DejaVu Sans Mono',consolas,'Courier New',monospace\">\n",
       "</pre>\n"
      ],
      "text/plain": [
       "\n"
      ]
     },
     "metadata": {},
     "output_type": "display_data"
    }
   ],
   "source": [
    "ko_change, _ = com.knockout_taxa(fraction=0.6, method='change', diag=False)"
   ]
  },
  {
   "cell_type": "code",
   "execution_count": 8,
   "metadata": {},
   "outputs": [
    {
     "name": "stdout",
     "output_type": "stream",
     "text": [
      "compartments                B_caccae  B_cellulosilyticus_WH2      B_ovatus  \\\n",
      "B_caccae                         NaN                0.038272  0.000000e+00   \n",
      "B_cellulosilyticus_WH2  0.000000e+00                     NaN  0.000000e+00   \n",
      "B_ovatus                9.932691e-20                0.038272           NaN   \n",
      "B_thetaiotaomicron      9.932692e-20                0.038272  2.067573e-19   \n",
      "B_uniformis             0.000000e+00                0.038272  0.000000e+00   \n",
      "B_vulgatus              9.932691e-20                0.038272  0.000000e+00   \n",
      "C_aerofaciens           0.000000e+00                0.038272  0.000000e+00   \n",
      "C_scindens              9.932691e-20                0.038272  2.067573e-19   \n",
      "C_spiroforme            9.932691e-20                0.038272  2.067573e-19   \n",
      "P_distasonis            9.932691e-20                0.038272  2.067573e-19   \n",
      "R_obeum                 1.084202e-19                0.038272  2.168404e-19   \n",
      "\n",
      "compartments            B_thetaiotaomicron   B_uniformis  B_vulgatus  \\\n",
      "B_caccae                          0.119653  0.000000e+00    0.104273   \n",
      "B_cellulosilyticus_WH2            0.119653  1.210227e-20    0.104273   \n",
      "B_ovatus                          0.119653  1.210227e-20    0.104273   \n",
      "B_thetaiotaomicron                     NaN  1.210227e-20    0.104273   \n",
      "B_uniformis                       0.119653           NaN    0.104273   \n",
      "B_vulgatus                        0.119653  1.210227e-20         NaN   \n",
      "C_aerofaciens                     0.119653  0.000000e+00    0.104273   \n",
      "C_scindens                        0.119653  1.210227e-20    0.104273   \n",
      "C_spiroforme                      0.119653  1.210227e-20    0.104273   \n",
      "P_distasonis                      0.119653  1.210227e-20    0.104273   \n",
      "R_obeum                           0.119653  0.000000e+00    0.104273   \n",
      "\n",
      "compartments            C_aerofaciens    C_scindens  C_spiroforme  \\\n",
      "B_caccae                 0.000000e+00  0.000000e+00  6.938894e-18   \n",
      "B_cellulosilyticus_WH2   1.384957e-20  7.519786e-21  6.745259e-18   \n",
      "B_ovatus                 1.384957e-20  7.519786e-21  6.745259e-18   \n",
      "B_thetaiotaomicron       1.384948e-20  7.519796e-21  6.745241e-18   \n",
      "B_uniformis              0.000000e+00  0.000000e+00  6.938894e-18   \n",
      "B_vulgatus               1.384957e-20  7.519786e-21  6.745259e-18   \n",
      "C_aerofaciens                     NaN  0.000000e+00  0.000000e+00   \n",
      "C_scindens               1.384957e-20           NaN  6.745259e-18   \n",
      "C_spiroforme             1.384957e-20  7.519786e-21           NaN   \n",
      "P_distasonis             1.384957e-20  7.519786e-21  6.745259e-18   \n",
      "R_obeum                  0.000000e+00  0.000000e+00  0.000000e+00   \n",
      "\n",
      "compartments            P_distasonis       R_obeum  \n",
      "B_caccae                    0.052213  1.916418e-13  \n",
      "B_cellulosilyticus_WH2      0.052213  1.916420e-13  \n",
      "B_ovatus                    0.052213  1.916420e-13  \n",
      "B_thetaiotaomicron          0.052213  1.916420e-13  \n",
      "B_uniformis                 0.052213  1.916418e-13  \n",
      "B_vulgatus                  0.052213  1.916420e-13  \n",
      "C_aerofaciens               0.052213  1.916418e-13  \n",
      "C_scindens                  0.052213  1.916420e-13  \n",
      "C_spiroforme                0.052213  1.916420e-13  \n",
      "P_distasonis                     NaN  1.916420e-13  \n",
      "R_obeum                     0.052213           NaN  \n"
     ]
    }
   ],
   "source": [
    "old = ko_new - ko_change\n",
    "print(old)"
   ]
  },
  {
   "cell_type": "code",
   "execution_count": 9,
   "metadata": {},
   "outputs": [
    {
     "data": {
      "text/plain": [
       "compartments\n",
       "B_caccae                  9.932691e-20\n",
       "B_cellulosilyticus_WH2    3.827200e-02\n",
       "B_ovatus                  2.067573e-19\n",
       "B_thetaiotaomicron        1.196529e-01\n",
       "B_uniformis               1.210227e-20\n",
       "B_vulgatus                1.042735e-01\n",
       "C_aerofaciens             1.384957e-20\n",
       "C_scindens                7.519786e-21\n",
       "C_spiroforme              6.745259e-18\n",
       "P_distasonis              5.221324e-02\n",
       "R_obeum                   1.916420e-13\n",
       "medium                             NaN\n",
       "Name: growth_rate, dtype: float64"
      ]
     },
     "execution_count": 9,
     "metadata": {},
     "output_type": "execute_result"
    }
   ],
   "source": [
    "ko_old"
   ]
  },
  {
   "cell_type": "code",
   "execution_count": 11,
   "metadata": {},
   "outputs": [],
   "source": [
    "minimal_imports_lf0 = load_results(\"growth_minimal_imports.zip\")"
   ]
  },
  {
   "cell_type": "code",
   "execution_count": 14,
   "metadata": {},
   "outputs": [
    {
     "data": {
      "text/html": [
       "<div>\n",
       "<style scoped>\n",
       "    .dataframe tbody tr th:only-of-type {\n",
       "        vertical-align: middle;\n",
       "    }\n",
       "\n",
       "    .dataframe tbody tr th {\n",
       "        vertical-align: top;\n",
       "    }\n",
       "\n",
       "    .dataframe thead th {\n",
       "        text-align: right;\n",
       "    }\n",
       "</style>\n",
       "<table border=\"1\" class=\"dataframe\">\n",
       "  <thead>\n",
       "    <tr style=\"text-align: right;\">\n",
       "      <th></th>\n",
       "      <th>abundance</th>\n",
       "      <th>growth_rate</th>\n",
       "      <th>reactions</th>\n",
       "      <th>metabolites</th>\n",
       "      <th>taxon</th>\n",
       "      <th>tradeoff</th>\n",
       "      <th>sample_id</th>\n",
       "    </tr>\n",
       "  </thead>\n",
       "  <tbody>\n",
       "    <tr>\n",
       "      <th>0</th>\n",
       "      <td>0.097084</td>\n",
       "      <td>1.231692e-14</td>\n",
       "      <td>2381</td>\n",
       "      <td>1461</td>\n",
       "      <td>B_caccae</td>\n",
       "      <td>0.6</td>\n",
       "      <td>mouse_01</td>\n",
       "    </tr>\n",
       "    <tr>\n",
       "      <th>1</th>\n",
       "      <td>0.444060</td>\n",
       "      <td>3.826183e-02</td>\n",
       "      <td>2779</td>\n",
       "      <td>1702</td>\n",
       "      <td>B_cellulosilyticus_WH2</td>\n",
       "      <td>0.6</td>\n",
       "      <td>mouse_01</td>\n",
       "    </tr>\n",
       "    <tr>\n",
       "      <th>2</th>\n",
       "      <td>0.139322</td>\n",
       "      <td>1.136146e-22</td>\n",
       "      <td>2476</td>\n",
       "      <td>1526</td>\n",
       "      <td>B_ovatus</td>\n",
       "      <td>0.6</td>\n",
       "      <td>mouse_01</td>\n",
       "    </tr>\n",
       "    <tr>\n",
       "      <th>3</th>\n",
       "      <td>0.093460</td>\n",
       "      <td>1.196529e-01</td>\n",
       "      <td>2524</td>\n",
       "      <td>1549</td>\n",
       "      <td>B_thetaiotaomicron</td>\n",
       "      <td>0.6</td>\n",
       "      <td>mouse_01</td>\n",
       "    </tr>\n",
       "    <tr>\n",
       "      <th>4</th>\n",
       "      <td>0.035084</td>\n",
       "      <td>1.535031e-22</td>\n",
       "      <td>2418</td>\n",
       "      <td>1500</td>\n",
       "      <td>B_uniformis</td>\n",
       "      <td>0.6</td>\n",
       "      <td>mouse_01</td>\n",
       "    </tr>\n",
       "    <tr>\n",
       "      <th>5</th>\n",
       "      <td>0.081447</td>\n",
       "      <td>1.042735e-01</td>\n",
       "      <td>2474</td>\n",
       "      <td>1519</td>\n",
       "      <td>B_vulgatus</td>\n",
       "      <td>0.6</td>\n",
       "      <td>mouse_01</td>\n",
       "    </tr>\n",
       "    <tr>\n",
       "      <th>6</th>\n",
       "      <td>0.010375</td>\n",
       "      <td>1.921085e-22</td>\n",
       "      <td>920</td>\n",
       "      <td>850</td>\n",
       "      <td>C_aerofaciens</td>\n",
       "      <td>0.6</td>\n",
       "      <td>mouse_01</td>\n",
       "    </tr>\n",
       "    <tr>\n",
       "      <th>7</th>\n",
       "      <td>0.011852</td>\n",
       "      <td>9.113085e-23</td>\n",
       "      <td>2049</td>\n",
       "      <td>1394</td>\n",
       "      <td>C_scindens</td>\n",
       "      <td>0.6</td>\n",
       "      <td>mouse_01</td>\n",
       "    </tr>\n",
       "    <tr>\n",
       "      <th>8</th>\n",
       "      <td>0.000141</td>\n",
       "      <td>9.393873e-20</td>\n",
       "      <td>1980</td>\n",
       "      <td>1313</td>\n",
       "      <td>C_spiroforme</td>\n",
       "      <td>0.6</td>\n",
       "      <td>mouse_01</td>\n",
       "    </tr>\n",
       "    <tr>\n",
       "      <th>9</th>\n",
       "      <td>0.040783</td>\n",
       "      <td>5.221324e-02</td>\n",
       "      <td>2519</td>\n",
       "      <td>1570</td>\n",
       "      <td>P_distasonis</td>\n",
       "      <td>0.6</td>\n",
       "      <td>mouse_01</td>\n",
       "    </tr>\n",
       "    <tr>\n",
       "      <th>10</th>\n",
       "      <td>0.046393</td>\n",
       "      <td>7.034322e-14</td>\n",
       "      <td>1225</td>\n",
       "      <td>1088</td>\n",
       "      <td>R_obeum</td>\n",
       "      <td>0.6</td>\n",
       "      <td>mouse_01</td>\n",
       "    </tr>\n",
       "  </tbody>\n",
       "</table>\n",
       "</div>"
      ],
      "text/plain": [
       "    abundance   growth_rate  reactions  metabolites                   taxon  \\\n",
       "0    0.097084  1.231692e-14       2381         1461                B_caccae   \n",
       "1    0.444060  3.826183e-02       2779         1702  B_cellulosilyticus_WH2   \n",
       "2    0.139322  1.136146e-22       2476         1526                B_ovatus   \n",
       "3    0.093460  1.196529e-01       2524         1549      B_thetaiotaomicron   \n",
       "4    0.035084  1.535031e-22       2418         1500             B_uniformis   \n",
       "5    0.081447  1.042735e-01       2474         1519              B_vulgatus   \n",
       "6    0.010375  1.921085e-22        920          850           C_aerofaciens   \n",
       "7    0.011852  9.113085e-23       2049         1394              C_scindens   \n",
       "8    0.000141  9.393873e-20       1980         1313            C_spiroforme   \n",
       "9    0.040783  5.221324e-02       2519         1570            P_distasonis   \n",
       "10   0.046393  7.034322e-14       1225         1088                 R_obeum   \n",
       "\n",
       "    tradeoff sample_id  \n",
       "0        0.6  mouse_01  \n",
       "1        0.6  mouse_01  \n",
       "2        0.6  mouse_01  \n",
       "3        0.6  mouse_01  \n",
       "4        0.6  mouse_01  \n",
       "5        0.6  mouse_01  \n",
       "6        0.6  mouse_01  \n",
       "7        0.6  mouse_01  \n",
       "8        0.6  mouse_01  \n",
       "9        0.6  mouse_01  \n",
       "10       0.6  mouse_01  "
      ]
     },
     "execution_count": 14,
     "metadata": {},
     "output_type": "execute_result"
    }
   ],
   "source": [
    "minimal_imports_lf0.growth_rates[minimal_imports_lf0.growth_rates['sample_id'] == 'mouse_01']"
   ]
  }
 ],
 "metadata": {
  "kernelspec": {
   "display_name": "micom-interactions",
   "language": "python",
   "name": "python3"
  },
  "language_info": {
   "codemirror_mode": {
    "name": "ipython",
    "version": 3
   },
   "file_extension": ".py",
   "mimetype": "text/x-python",
   "name": "python",
   "nbconvert_exporter": "python",
   "pygments_lexer": "ipython3",
   "version": "3.9.18"
  }
 },
 "nbformat": 4,
 "nbformat_minor": 2
}
